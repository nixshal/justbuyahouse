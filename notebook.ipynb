{
 "cells": [
  {
   "cell_type": "code",
   "execution_count": 1,
   "source": [
    "import requests\r\n",
    "from bs4 import BeautifulSoup\r\n",
    "import pandas as pd\r\n",
    "import re "
   ],
   "outputs": [],
   "metadata": {}
  },
  {
   "cell_type": "code",
   "execution_count": 2,
   "source": [
    "url = 'https://www.iproperty.com.my/rent/all-residential/transport/kl-sentral-438'\r\n",
    "\r\n",
    "headers = {'User-Agent' : 'Mozilla/5.0 (Windows NT 10.0; Win64; x64) AppleWebKit/537.36 (KHTML, like Gecko) Chrome/92.0.4515.107 Safari/537.36'}\r\n",
    "\r\n",
    "response= requests.get(url, headers=headers)\r\n",
    "\r\n",
    "print(response)"
   ],
   "outputs": [
    {
     "output_type": "stream",
     "name": "stdout",
     "text": [
      "<Response [200]>\n"
     ]
    }
   ],
   "metadata": {}
  },
  {
   "cell_type": "code",
   "execution_count": null,
   "source": [
    "# #selenium for dynamic scraping\r\n",
    "# from selenium import webdriver\r\n",
    "# from selenium.webdriver.chrome.options import Options\r\n",
    "# from time import sleep\r\n",
    "# from webdriver_manager.chrome import ChromeDriverManager\r\n",
    "\r\n",
    "# # options = Options() #headless mode\r\n",
    "# #options.headless = True #headless mode\r\n",
    "\r\n",
    "# options = webdriver.ChromeOptions()\r\n",
    "# options.add_argument('--ignore-certificate-errors')\r\n",
    "# options.add_argument('--incognito')\r\n",
    "# # options.add_argument('--headless')\r\n",
    "# driver = webdriver.Chrome(ChromeDriverManager().install(), options=options)\r\n",
    "# sleep(2)\r\n",
    "# driver.get(url)\r\n",
    "# print('iproperty website loaded')"
   ],
   "outputs": [],
   "metadata": {}
  },
  {
   "cell_type": "code",
   "execution_count": 3,
   "source": [
    "soup = BeautifulSoup(response.content,'html.parser')"
   ],
   "outputs": [],
   "metadata": {}
  },
  {
   "cell_type": "code",
   "execution_count": null,
   "source": [
    "print(soup.find_all('a'))\r\n",
    "\r\n",
    "# a=soup.find_all('a')\r\n",
    "# print(len(a))"
   ],
   "outputs": [],
   "metadata": {}
  },
  {
   "cell_type": "code",
   "execution_count": null,
   "source": [
    "#get all links in only the '/property/...' format\r\n",
    "#obviously not the fastest way here\r\n",
    "#next to remove duplicates\r\n",
    "\r\n",
    "links = []\r\n",
    "\r\n",
    "for link in soup.findAll('a'):\r\n",
    "    #print(link.get('href'))\r\n",
    "    links.append(link.get('href'))\r\n",
    "\r\n",
    "print(len(links))\r\n",
    "\r\n",
    "links = [i for i in links if i] #removes None\r\n",
    "print(len(links))\r\n",
    "\r\n",
    "links = [i for i in links if 'http' not in i]\r\n",
    "print(len(links))\r\n",
    "\r\n",
    "links = [i for i in links if 'tel' not in i]\r\n",
    "print(len(links))\r\n",
    "\r\n",
    "links = [i for i in links if 'photo' not in i]\r\n",
    "print(len(links))\r\n",
    "\r\n",
    "links = [i for i in links if 'video' not in i]\r\n",
    "print(len(links))\r\n",
    "\r\n",
    "links = [i for i in links if 'floorplan' not in i]\r\n",
    "print(len(links))\r\n",
    "\r\n",
    "links = [i for i in links if len(i) > 10]\r\n",
    "print(len(links))\r\n",
    "\r\n",
    "links\r\n"
   ],
   "outputs": [],
   "metadata": {}
  },
  {
   "cell_type": "code",
   "execution_count": 65,
   "source": [
    "# %%time\r\n",
    "\r\n",
    "# page_num = 0 \r\n",
    "\r\n",
    "# for page in range(0,2):\r\n",
    "#     page_num += 1\r\n",
    "#     iproperty_url = 'https://www.iproperty.com.my/rent/all-residential/transport/kl-sentral-438/?page=' + str(page_num)\r\n",
    "#     r = requests.get(iproperty_url, headers=headers)\r\n",
    "#     page_html = BeautifulSoup(r.content,'html.parser')\r\n",
    "    \r\n"
   ],
   "outputs": [
    {
     "output_type": "stream",
     "name": "stdout",
     "text": [
      "hello\n",
      "Wall time: 0 ns\n"
     ]
    }
   ],
   "metadata": {}
  }
 ],
 "metadata": {
  "orig_nbformat": 4,
  "language_info": {
   "name": "python",
   "version": "3.8.8",
   "mimetype": "text/x-python",
   "codemirror_mode": {
    "name": "ipython",
    "version": 3
   },
   "pygments_lexer": "ipython3",
   "nbconvert_exporter": "python",
   "file_extension": ".py"
  },
  "kernelspec": {
   "name": "python3",
   "display_name": "Python 3.8.8 64-bit ('base': conda)"
  },
  "interpreter": {
   "hash": "9359f96dcc8e6dbb808894a2b8636b1a27bb05921e7737a9fa6a11f3018a2953"
  }
 },
 "nbformat": 4,
 "nbformat_minor": 2
}