{
 "cells": [
  {
   "cell_type": "code",
   "execution_count": null,
   "source": [
    "import requests\r\n",
    "from bs4 import BeautifulSoup\r\n",
    "from time import sleep\r\n",
    "from itertools import chain\r\n",
    "import pandas as pd\r\n",
    "import re"
   ],
   "outputs": [],
   "metadata": {}
  },
  {
   "cell_type": "code",
   "execution_count": null,
   "source": [
    "# url = 'https://www.iproperty.com.my/rent/all-residential/transport/kl-sentral-438'\r\n",
    "\r\n",
    "# headers = {'User-Agent' : 'Mozilla/5.0 (Windows NT 10.0; Win64; x64) AppleWebKit/537.36 (KHTML, like Gecko) Chrome/92.0.4515.107 Safari/537.36'}\r\n",
    "\r\n",
    "# response= requests.get(url, headers=headers)\r\n",
    "\r\n",
    "# print(response)"
   ],
   "outputs": [],
   "metadata": {}
  },
  {
   "cell_type": "code",
   "execution_count": null,
   "source": [
    "# BeautifulSoup stuff\r\n",
    "# url = 'https://www.iproperty.com.my/'\r\n",
    "headers = {\r\n",
    "    'User-Agent': 'Mozilla/5.0 (Windows NT 10.0; Win64; x64) AppleWebKit/537.36 (KHTML, like Gecko) Chrome/92.0.4515.107 Safari/537.36'\r\n",
    "    }\r\n",
    "# r = requests.get(url, headers=headers)\r\n",
    "\r\n",
    "page_num = 0\r\n",
    "\r\n",
    "links = []\r\n",
    "cleanlinks = []\r\n",
    "for page in range(0, 5):\r\n",
    "    page_num += 1\r\n",
    "    iproperty_url = 'https://www.iproperty.com.my/rent/all-residential/transport/kl-sentral-438/?page=' + \\\r\n",
    "        str(page_num)\r\n",
    "    r = requests.get(iproperty_url, headers=headers)\r\n",
    "    print(r)\r\n",
    "    sleep(4)\r\n",
    "    print('Now scraping page ' +str(page_num))\r\n",
    "    soup = BeautifulSoup(r.content, 'html.parser')\r\n",
    "    for link in soup.findAll('a'):\r\n",
    "        # print(link.get('href'))\r\n",
    "        links.append(link.get('href'))\r\n",
    "\r\n",
    "print(links)\r\n",
    "print('================================')\r\n",
    "\r\n",
    "df = pd.DataFrame(links, columns=[\"Links\"])\r\n",
    "df.to_csv('list.csv', index=False)"
   ],
   "outputs": [],
   "metadata": {}
  },
  {
   "cell_type": "code",
   "execution_count": null,
   "source": [
    "print(len(links))\r\n",
    "links = [i for i in links if i]  # removes None\r\n",
    "print(len(links)\r\n",
    "\r\n",
    "links = [i for i in links if 'http' not in i]\r\n",
    "print(len(links)\r\n",
    "\r\n",
    "links = [i for i in links if 'tel' not in i]\r\n",
    "print(len(links)\r\n",
    "\r\n",
    "links = [i for i in links if 'photo' not in i]\r\n",
    "print(len(links)\r\n",
    "\r\n",
    "links = [i for i in links if 'video' not in i]\r\n",
    "print(len(links)\r\n",
    "\r\n",
    "links = [i for i in links if 'floorplan' not in i]\r\n",
    "print(len(links)\r\n",
    "\r\n",
    "links = [i for i in links if len(i) > 10]\r\n",
    "print(len(links)\r\n",
    "\r\n",
    "cleanlinks.append(links)\r\n",
    "print(len(links))\r\n",
    "\r\n",
    "sleep(5)"
   ],
   "outputs": [],
   "metadata": {}
  },
  {
   "cell_type": "code",
   "execution_count": null,
   "source": [
    "# flatten list of links\r\n",
    "flatlist = list(chain.from_iterable(cleanlinks))\r\n",
    "\r\n",
    "flatlist\r\n",
    "\r\n",
    "# print(len(flatlist))\r\n",
    "# print('end')\r\n",
    "# print('end')\r\n",
    "\r\n",
    "df = pd.DataFrame({'Links':flatlist})\r\n",
    "df\r\n",
    "\r\n",
    "flatlist"
   ],
   "outputs": [],
   "metadata": {}
  }
 ],
 "metadata": {
  "orig_nbformat": 4,
  "language_info": {
   "name": "python",
   "version": "3.8.8",
   "mimetype": "text/x-python",
   "codemirror_mode": {
    "name": "ipython",
    "version": 3
   },
   "pygments_lexer": "ipython3",
   "nbconvert_exporter": "python",
   "file_extension": ".py"
  },
  "kernelspec": {
   "name": "python3",
   "display_name": "Python 3.8.8 64-bit ('base': conda)"
  },
  "interpreter": {
   "hash": "9359f96dcc8e6dbb808894a2b8636b1a27bb05921e7737a9fa6a11f3018a2953"
  }
 },
 "nbformat": 4,
 "nbformat_minor": 2
}