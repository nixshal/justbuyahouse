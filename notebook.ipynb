{
 "cells": [
  {
   "cell_type": "code",
   "execution_count": null,
   "source": [
    "import requests\r\n",
    "from bs4 import BeautifulSoup\r\n",
    "import pandas as pd\r\n",
    "import re "
   ],
   "outputs": [],
   "metadata": {}
  },
  {
   "cell_type": "code",
   "execution_count": null,
   "source": [
    "url = 'https://www.iproperty.com.my/rent/all-residential/transport/kl-sentral-438'\r\n",
    "\r\n",
    "headers = {'User-Agent' : 'Mozilla/5.0 (Windows NT 10.0; Win64; x64) AppleWebKit/537.36 (KHTML, like Gecko) Chrome/92.0.4515.107 Safari/537.36'}\r\n",
    "\r\n",
    "response= requests.get(url, headers=headers)\r\n",
    "\r\n",
    "print(response)"
   ],
   "outputs": [],
   "metadata": {}
  },
  {
   "cell_type": "code",
   "execution_count": null,
   "source": [
    "# #selenium for dynamic scraping\r\n",
    "# from selenium import webdriver\r\n",
    "# from selenium.webdriver.chrome.options import Options\r\n",
    "# from time import sleep\r\n",
    "# from webdriver_manager.chrome import ChromeDriverManager\r\n",
    "\r\n",
    "# # options = Options() #headless mode\r\n",
    "# #options.headless = True #headless mode\r\n",
    "\r\n",
    "# options = webdriver.ChromeOptions()\r\n",
    "# options.add_argument('--ignore-certificate-errors')\r\n",
    "# options.add_argument('--incognito')\r\n",
    "# # options.add_argument('--headless')\r\n",
    "# driver = webdriver.Chrome(ChromeDriverManager().install(), options=options)\r\n",
    "# sleep(2)\r\n",
    "# driver.get(url)\r\n",
    "# print('iproperty website loaded')"
   ],
   "outputs": [],
   "metadata": {}
  },
  {
   "cell_type": "code",
   "execution_count": null,
   "source": [
    "soup = BeautifulSoup(response.content,'html.parser')"
   ],
   "outputs": [],
   "metadata": {}
  },
  {
   "cell_type": "code",
   "execution_count": null,
   "source": [
    "print(soup.find_all('a'))\r\n"
   ],
   "outputs": [],
   "metadata": {}
  },
  {
   "cell_type": "code",
   "execution_count": null,
   "source": [
    "links = []\r\n",
    "\r\n",
    "for link in soup.findAll('a'):\r\n",
    "    print(link.get('href'))\r\n",
    "    links.append(link.get('href'))\r\n",
    "\r\n"
   ],
   "outputs": [],
   "metadata": {}
  },
  {
   "cell_type": "code",
   "execution_count": null,
   "source": [
    "pdflist = []\r\n",
    "for url in soup.find_all('a'):\r\n",
    "    # print(url.get('href'))\r\n",
    "    pdflist.append(url.get('href'))\r\n",
    "\r\n",
    "pdflist = [i for i in pdflist if i] #removes None\r\n",
    "\r\n",
    "pdflist\r\n",
    "\r\n",
    "substring = \"pdf\"\r\n",
    "pdfs = [i for i in pdflist if substring in i]\r\n",
    "print(len(pdfs))\r\n",
    "pdfs\r\n",
    "\r\n"
   ],
   "outputs": [],
   "metadata": {}
  }
 ],
 "metadata": {
  "orig_nbformat": 4,
  "language_info": {
   "name": "python",
   "version": "3.8.8",
   "mimetype": "text/x-python",
   "codemirror_mode": {
    "name": "ipython",
    "version": 3
   },
   "pygments_lexer": "ipython3",
   "nbconvert_exporter": "python",
   "file_extension": ".py"
  },
  "kernelspec": {
   "name": "python3",
   "display_name": "Python 3.8.8 64-bit ('base': conda)"
  },
  "interpreter": {
   "hash": "9359f96dcc8e6dbb808894a2b8636b1a27bb05921e7737a9fa6a11f3018a2953"
  }
 },
 "nbformat": 4,
 "nbformat_minor": 2
}