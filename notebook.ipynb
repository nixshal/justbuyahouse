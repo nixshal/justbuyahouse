{
 "cells": [
  {
   "cell_type": "markdown",
   "source": [
    "# Get all links for a given Train Station ID"
   ],
   "metadata": {}
  },
  {
   "cell_type": "markdown",
   "source": [
    "## Train Station ID's"
   ],
   "metadata": {}
  },
  {
   "cell_type": "code",
   "execution_count": 142,
   "source": [
    "lrt_kelana_jaya_line_1 = ['gombak-543', 'ampang-park-89', 'pasar-seni-414', 'bangsar-625', 'asia-jaya-187', 'ara-damansara-415', 'usj-7-608', 'putra-heights-678', 'taman-melati-624', 'jelatek-51', 'masjid-jamek-600', 'abdullah-hukum-325', 'taman-paramount-466', 'glenmarie-250', 'taipan-719', 'subang-alam-584', 'wangsa-maju-276', 'dato-keramat-607', 'kampung-baru-121', 'kerinchi-431', 'taman-bahagia-529', 'subang-jaya-1', 'wawasan-432', 'sri-rampai-513', 'damai-683', 'dang-wangi-291', 'universiti-168', 'kelana-jaya-260', 'ss-15-316', 'usj-21-531', 'setiawangsa-20', 'klcc-666', 'kl-sentral-438', 'taman-jaya-560', 'lembah-subang-170', 'ss-18-189', 'alam-megah-23']"
   ],
   "outputs": [],
   "metadata": {}
  },
  {
   "cell_type": "markdown",
   "source": [
    "## Get all links from a Train Station ID"
   ],
   "metadata": {}
  },
  {
   "cell_type": "code",
   "execution_count": 143,
   "source": [
    "import requests\r\n",
    "from bs4 import BeautifulSoup\r\n",
    "from time import sleep\r\n",
    "from itertools import chain\r\n",
    "import pandas as pd\r\n",
    "import re"
   ],
   "outputs": [],
   "metadata": {}
  },
  {
   "cell_type": "code",
   "execution_count": 144,
   "source": [
    "# url = 'https://www.iproperty.com.my/rent/all-residential/transport/kl-sentral-438'\r\n",
    "# headers = {'User-Agent' : 'Mozilla/5.0 (Windows NT 10.0; Win64; x64) AppleWebKit/537.36 (KHTML, like Gecko) Chrome/92.0.4515.107 Safari/537.36'}\r\n",
    "# response= requests.get(url, headers=headers)\r\n",
    "# print(response)"
   ],
   "outputs": [],
   "metadata": {}
  },
  {
   "cell_type": "code",
   "execution_count": 145,
   "source": [
    "# BeautifulSoup stuff\r\n",
    "headers = {'User-Agent': 'Mozilla/5.0 (Windows NT 10.0; Win64; x64) AppleWebKit/537.36 (KHTML, like Gecko) Chrome/92.0.4515.107 Safari/537.36'}\r\n",
    "\r\n",
    "page_num = 0\r\n",
    "\r\n",
    "links = []\r\n",
    "for page in range(0,1):\r\n",
    "    page_num += 1\r\n",
    "    iproperty_url = 'https://www.iproperty.com.my/rent/all-residential/transport/kl-sentral-438/?page=' + \\\r\n",
    "        str(page_num)\r\n",
    "    r = requests.get(iproperty_url, headers=headers)\r\n",
    "    print(r)\r\n",
    "    sleep(5)\r\n",
    "    print('Now scraping page ' +str(page_num))\r\n",
    "    soup = BeautifulSoup(r.content, 'html.parser')\r\n",
    "    for link in soup.findAll('a'):\r\n",
    "        # print(link.get('href'))\r\n",
    "        links.append(link.get('href'))\r\n",
    "\r\n",
    "links = [i for i in links if i] #removes None\r\n",
    "print(len(links))\r\n",
    "\r\n",
    "\r\n",
    "\r\n",
    "\r\n",
    "print('**********ALL LINKS FOR TRAIN STATION ID: ' + 'COMPLETE**********')"
   ],
   "outputs": [
    {
     "output_type": "stream",
     "name": "stdout",
     "text": [
      "<Response [200]>\n",
      "Now scraping page 1\n",
      "608\n",
      "**********ALL LINKS FOR TRAIN STATION ID: COMPLETE**********\n"
     ]
    }
   ],
   "metadata": {}
  },
  {
   "cell_type": "code",
   "execution_count": 146,
   "source": [
    "to_remove = ['http','tel','photo','video','floorplan']\r\n",
    "\r\n",
    "filtered_list = [ i for i in links if \"http\" not in i and \"tel\" not in i and \"photo\" not in i and \"video\" not in i and \"floorplan\" not in i and len(i) > 10]\r\n",
    "\r\n",
    "# for loop implementation\r\n",
    "# for i in links:\r\n",
    "#     if \"http\" not in i and \"tel\" not in i and \"photo\" not in i and \"video\" not in i and \"floorplan\" not in i and len(i) > 10:\r\n",
    "#         nlist.append(i)"
   ],
   "outputs": [],
   "metadata": {}
  },
  {
   "cell_type": "code",
   "execution_count": 147,
   "source": [
    "df = pd.DataFrame(filtered_list, columns=[\"links\"])\r\n",
    "\r\n",
    "df.drop_duplicates(inplace=True)\r\n",
    "\r\n",
    "filename = iproperty_url.split('/')\r\n",
    "filename = filename[3] + '-' + filename[6] + '-' + 'property-links' + '.csv'\r\n",
    "\r\n",
    "df.to_csv(filename, index=False) #to print to a csv"
   ],
   "outputs": [],
   "metadata": {}
  },
  {
   "cell_type": "markdown",
   "source": [
    "## Scrape data from just 1 property link"
   ],
   "metadata": {}
  },
  {
   "cell_type": "code",
   "execution_count": 148,
   "source": [
    "import requests\r\n",
    "from bs4 import BeautifulSoup\r\n",
    "from time import sleep\r\n",
    "import itertools\r\n",
    "import pandas as pd\r\n",
    "import re"
   ],
   "outputs": [],
   "metadata": {}
  },
  {
   "cell_type": "code",
   "execution_count": 149,
   "source": [
    "sample = '/property/kl-sentral/suasana-sentral-loft/rent-101070378/'\r\n",
    "sample2 = '/property/bangsar/serai/rent-101410606/'\r\n",
    "\r\n",
    "url = 'https://www.iproperty.com.my' + sample2\r\n",
    "url"
   ],
   "outputs": [
    {
     "output_type": "execute_result",
     "data": {
      "text/plain": [
       "'https://www.iproperty.com.my/property/bangsar/serai/rent-101410606/'"
      ]
     },
     "metadata": {},
     "execution_count": 149
    }
   ],
   "metadata": {}
  },
  {
   "cell_type": "code",
   "execution_count": 150,
   "source": [
    "headers = {'User-Agent' : 'Mozilla/5.0 (Windows NT 10.0; Win64; x64) AppleWebKit/537.36 (KHTML, like Gecko) Chrome/92.0.4515.107 Safari/537.36'}\r\n",
    "response= requests.get(url, headers=headers)\r\n",
    "print(response)\r\n",
    "\r\n",
    "soup = BeautifulSoup(response.content, 'html.parser')"
   ],
   "outputs": [
    {
     "output_type": "stream",
     "name": "stdout",
     "text": [
      "<Response [200]>\n"
     ]
    }
   ],
   "metadata": {}
  },
  {
   "cell_type": "code",
   "execution_count": 151,
   "source": [
    "# print(soup.prettify())"
   ],
   "outputs": [],
   "metadata": {}
  },
  {
   "cell_type": "code",
   "execution_count": 173,
   "source": [
    "a = soup.find_all('div', class_ ='PropertyDetailsListstyle__AttributeItemData-jpQfWB HUTFZ')[5].text.split(' ')[1]\r\n",
    "\r\n",
    "print(a)\r\n",
    "print(type(a))\r\n",
    "\r\n",
    "\r\n",
    "b = float(soup.find_all('div', class_ ='PropertyDetailsListstyle__AttributeItemData-jpQfWB HUTFZ')[5].text.split(' ')[1])\r\n",
    "\r\n",
    "print(b)\r\n",
    "print(type(b))\r\n",
    "# .text.split(': ')[1]"
   ],
   "outputs": [
    {
     "output_type": "stream",
     "name": "stdout",
     "text": [
      "3.89\n",
      "<class 'str'>\n",
      "3.89\n",
      "<class 'float'>\n"
     ]
    }
   ],
   "metadata": {}
  },
  {
   "cell_type": "code",
   "execution_count": 174,
   "source": [
    "rent_id = sample.split('/')[4]\r\n",
    "title = soup.find_all('title')[0].text\r\n",
    "str_price = soup.find_all('div', class_ ='ListingPrice__Price-cYBbuG cspQqH property-price')[0].text.split(' ')[2].replace(',','')\r\n",
    "property_price = int(''.join(itertools.takewhile(str.isdigit,str_price)))\r\n",
    "property_summary = soup.find_all('h1', class_ ='PropertySummarystyle__ProjectTitleWrapper-kAhflS PNQmp')[0].text\r\n",
    "property_address = soup.find_all('span', class_ ='property-address rent-default')[0].text\r\n",
    "built_up = soup.find_all('li', class_ ='PropertySummarystyle__AreaInfoItem-NjZCY dUovgc')[0].text.split(': ')[1]\r\n",
    "land_area = soup.find_all('li', class_ ='PropertySummarystyle__AreaInfoItem-NjZCY dUovgc')[1].text.split(': ')[1]\r\n",
    "details = str(soup.find('pre')).split('>')[1].splitlines()\r\n",
    "\r\n",
    "property_type = soup.find_all('div', class_ ='PropertyDetailsListstyle__AttributeItemData-jpQfWB HUTFZ')[0].text\r\n",
    "land_title = soup.find_all('div', class_ ='PropertyDetailsListstyle__AttributeItemData-jpQfWB HUTFZ')[1].text\r\n",
    "property_title_type = soup.find_all('div', class_ ='PropertyDetailsListstyle__AttributeItemData-jpQfWB HUTFZ')[2].text\r\n",
    "tenure = soup.find_all('div', class_ ='PropertyDetailsListstyle__AttributeItemData-jpQfWB HUTFZ')[3].text\r\n",
    "built_up_size_sq_ft = int(''.join(itertools.takewhile(str.isdigit,soup.find_all('div', class_ ='PropertyDetailsListstyle__AttributeItemData-jpQfWB HUTFZ')[4].text.split(' ')[0].replace(',', ''))))\r\n",
    "built_up_price_per_sq_ft = float(soup.find_all('div', class_ ='PropertyDetailsListstyle__AttributeItemData-jpQfWB HUTFZ')[5].text.split(' ')[1])\r\n",
    "furnishing = soup.find_all('div', class_ ='PropertyDetailsListstyle__AttributeItemData-jpQfWB HUTFZ')[6].text\r\n",
    "occupancy = soup.find_all('div', class_ ='PropertyDetailsListstyle__AttributeItemData-jpQfWB HUTFZ')[7].text\r\n",
    "unit_type = soup.find_all('div', class_ ='PropertyDetailsListstyle__AttributeItemData-jpQfWB HUTFZ')[8].text\r\n",
    "reference = int(soup.find_all('div', class_ ='PropertyDetailsListstyle__AttributeItemData-jpQfWB HUTFZ')[9].text)\r\n",
    "posted_date = pd.to_datetime(soup.find_all('div', class_ ='PropertyDetailsListstyle__AttributeItemData-jpQfWB HUTFZ')[10].text)\r\n",
    "property_features = [i.text for i in soup.find_all('div', class_ ='attribute-title-container') ]\r\n",
    "\r\n",
    "\r\n",
    "print(rent_id)\r\n",
    "print(title)\r\n",
    "print(property_price)\r\n",
    "print(property_summary)\r\n",
    "print(property_address)\r\n",
    "print(built_up)\r\n",
    "print(land_area)\r\n",
    "print(details)\r\n",
    "print(property_type)\r\n",
    "print(land_title)\r\n",
    "print(property_title_type)\r\n",
    "print(tenure)\r\n",
    "print(built_up_size_sq_ft)\r\n",
    "print(built_up_price_per_sq_ft)\r\n",
    "print(furnishing)\r\n",
    "print(occupancy)\r\n",
    "print(unit_type)\r\n",
    "print(reference)\r\n",
    "print(posted_date)\r\n",
    "print(property_features)\r\n"
   ],
   "outputs": [
    {
     "output_type": "stream",
     "name": "stdout",
     "text": [
      "rent-101070378\n",
      "Serai  Condominium 4+1 bedrooms for rent in Bangsar, Kuala Lumpur | iProperty.com.my\n",
      "20000\n",
      "Serai, Bukit Bandaraya, Bangsar\n",
      "Jalan Medang Serai, Bukit Bandaraya, 59100, Kuala Lumpur \n",
      "5,137 sq. ft.\n",
      "-\n",
      "['PHOTOS ABOVE ARE OF THE ACTUAL LISTING ', ' ', 'Serai - the last residential development in Bukit Bandaraya is also Bangsar’s crown jewel. ', ' ', 'Built on the last 6 acres of prime land in this upmarket neighbourhood by pioneer luxury developer, BRDB, Serai represents the pinnacle of fine living. Boasting an enviably low density, a total of only 121 exclusive residences are housed in two elegant 21-storey towers. ', ' ', 'With typical layouts from 4,000sf to 7,000sf that offer voluminous living rooms and expansive balconies, Serai is designed with the ultimate luxury of space and as a natural replacement for high-end bungalows. Luxury interior appointments include Poliform wardrobe systems in the bedrooms, a fitted signature Bulthaup kitchen, Gaggenau professional kitchen appliances, Bosch wet kitchen and laundry appliances, and bathrooms that feature the finest designer fittings from Toto Neorest, Gessi, Villeroy &amp; Boch and Alape. ', ' ', 'Complemented by concierge services, state-of-the-art security technology, top-end recreational facilities including a heated 50m saltwater pool, world class gym and a fully fitted private dining room, and grand open spaces with extensive water features and landscaping, Serai sets a distinct new standard for suburban luxury living. ', ' ', 'For more information and arrangement of viewing, please call U Kian at 012-205 0805 or email at ukian@avidestates.my ', ' ', 'A property brought to you by Avid Estates www.avidestates.my</pre']\n",
      "Condominium\n",
      "Residential\n",
      "Strata\n",
      "Freehold\n",
      "5137\n",
      "3.89\n",
      "Partly furnished\n",
      "Vacant\n",
      "South west\n",
      "101410606\n",
      "2021-08-04 00:00:00\n",
      "['24-hours security', 'Parking', 'Club house', 'Gymnasium', 'Playground', 'Swimming pool']\n"
     ]
    }
   ],
   "metadata": {}
  }
 ],
 "metadata": {
  "orig_nbformat": 4,
  "language_info": {
   "name": "python",
   "version": "3.8.8",
   "mimetype": "text/x-python",
   "codemirror_mode": {
    "name": "ipython",
    "version": 3
   },
   "pygments_lexer": "ipython3",
   "nbconvert_exporter": "python",
   "file_extension": ".py"
  },
  "kernelspec": {
   "name": "python3",
   "display_name": "Python 3.8.8 64-bit ('base': conda)"
  },
  "interpreter": {
   "hash": "9359f96dcc8e6dbb808894a2b8636b1a27bb05921e7737a9fa6a11f3018a2953"
  }
 },
 "nbformat": 4,
 "nbformat_minor": 2
}